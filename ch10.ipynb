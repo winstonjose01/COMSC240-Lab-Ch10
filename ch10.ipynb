{
 "cells": [
  {
   "cell_type": "markdown",
   "metadata": {},
   "source": [
    "<style>\n",
    "\th1 {\n",
    "\t--\tbackground-color: grey;\n",
    "\t\tcolor: yellow\n",
    "\t\tborder: 3px solid grey\n",
    "\n",
    "\t}\n",
    "\tp {\n",
    "\t\tbackground-color: grey;\n",
    "\t\tcolor: white\n",
    "\t\tborder: 3px solid grey\n",
    "\n",
    "\t}\n",
    "</style>\n",
    "<h1> Chapter 10 Classes and Object-Oriented Programming</h1>\n",
    "\n",
    "- Class Definition\n",
    "- Non-Public Attributes\n",
    "- Getter and Setter Methods\n",
    "- Decorators\n",
    "- @property Decorator\n",
    "- UML\n",
    "- Classs Attributes\n",
    "- Class Customization\n",
    "- Inheritance"
   ]
  },
  {
   "cell_type": "markdown",
   "metadata": {},
   "source": [
    "***\n",
    "\n",
    "## <p style=\"background-color: grey; color: white \"> ◼️  Classes and Object-Oriented Programming </p>\n",
    "# <p style=\"font-family: Arial; font-size:1.4em;color:red;\"> 1. Constructor, Property, Getter and Setter, _ and __</p>\n"
   ]
  },
  {
   "cell_type": "markdown",
   "metadata": {},
   "source": [
    "### 1. Constructor\n",
    "\n",
    "A method is a function defined within a class. The __init__ method, commonly known as a constructor, is responsible for setting up the initial state of a new instance.\n",
    "In Python, the __init__ method takes self as the first parameter, which represents the instance being created. Additional parameters can be passed to the constructor to customize the initialization. This method does not return anything explicitly, as it is used solely for initialization. Constructors are essential for creating objects with predefined properties and behavior, supporting encapsulation and data integrity within a class\n"
   ]
  },
  {
   "cell_type": "markdown",
   "metadata": {},
   "source": [
    "#### <p style=\"font-family: Arial; font-size:1.4em; background-color: yellow; color:black;\"> Problem #1.0 </p>\n",
    "\n",
    "#### Make a Class Student with the following attributes and constructor\n",
    "```\n",
    "class Student:\n",
    "       def __init__(self):\n",
    "               self.sid = 0\n",
    "               self.sname = ‘ ‘\n",
    "\n",
    "        def __init__(self, sid, sname):\n",
    "                self.sid = sid\n",
    "                self.sname = sname\n",
    "\n",
    "s1 = Student ( )\n",
    "print (s1.sid)\n",
    "print (s1.sname)\n",
    "\n",
    "sid = 9001; sname = 'Jane'\n",
    "s2 = Student (sid, sname)\n",
    "print (s2.sid)\n",
    "print (s2.sname)\n",
    "\n",
    "```"
   ]
  },
  {
   "cell_type": "code",
   "execution_count": 9,
   "metadata": {},
   "outputs": [
    {
     "name": "stdout",
     "output_type": "stream",
     "text": [
      "0\n",
      "\n",
      "9000\n",
      "Jane\n"
     ]
    }
   ],
   "source": [
    "# Make the same code as above using the constructor\n",
    "class Student:\n",
    "    def __init__(self, sid = 0, name = ''):\n",
    "        self.sid = sid\n",
    "        self.sname = name\n",
    "        \n",
    "s1 = Student()\n",
    "print (s1.sid)\n",
    "print (s1.sname)\n",
    "\n",
    "sid = 9000;  sname = 'Jane'\n",
    "s2 = Student (sid, sname)\n",
    "print (s2.sid)\n",
    "print (s2.sname)"
   ]
  },
  {
   "cell_type": "markdown",
   "metadata": {},
   "source": [
    "---"
   ]
  },
  {
   "cell_type": "markdown",
   "metadata": {},
   "source": [
    "#### <p style=\"font-family: Arial; font-size:1.4em; background-color: yellow; color:black;\"> Problem #1.1 </p>\n",
    "\n",
    "#### Make a Class Rectangle with the following attributes and constructor\n",
    "```\n",
    "class Rectangle:\n",
    "\n",
    "       def __init__(self, width, height):\n",
    "               self.width = width\n",
    "               self.height = height\n",
    "      \n",
    "       def getArea(self):\n",
    "               return self.width * self.height\n",
    "        \n",
    "\n",
    "r1 = Rectangle(10, 20)\n",
    "print(r1.getArea())\n",
    "```\n"
   ]
  },
  {
   "cell_type": "code",
   "execution_count": 12,
   "metadata": {},
   "outputs": [
    {
     "name": "stdout",
     "output_type": "stream",
     "text": [
      "200\n",
      "10\n",
      "20\n"
     ]
    }
   ],
   "source": [
    "# Make the same code as above using the constructor\n",
    "class Rectantangle:\n",
    "    def __init__(self, width, height):\n",
    "        self.width = width\n",
    "        self.height = height\n",
    "        \n",
    "    def getArea(self):\n",
    "        return self.width * self.height\n",
    "    \n",
    "\n",
    "r1 = Rectantangle (10,20)\n",
    "print (r1.getArea())\n",
    "print (r1.width)\n",
    "print (r1.height)\n"
   ]
  },
  {
   "cell_type": "markdown",
   "metadata": {},
   "source": [
    "#### <p style=\"font-family: Arial; font-size:1.4em; background-color: yellow; color:black;\"> Problem #1.2 </p>\n",
    "\n",
    "#### try to access the width and height directly \n",
    "```\n",
    "r1 = Rectangle(10, 20)\n",
    "print(r1.width)\n",
    "print(r1.height)\n",
    "```\n"
   ]
  },
  {
   "cell_type": "code",
   "execution_count": null,
   "metadata": {},
   "outputs": [
    {
     "ename": "SyntaxError",
     "evalue": "invalid syntax (89562567.py, line 2)",
     "output_type": "error",
     "traceback": [
      "\u001b[1;36m  Cell \u001b[1;32mIn[18], line 2\u001b[1;36m\u001b[0m\n\u001b[1;33m    <code style=\"background-color: yellow; color: black\">\u001b[0m\n\u001b[1;37m    ^\u001b[0m\n\u001b[1;31mSyntaxError\u001b[0m\u001b[1;31m:\u001b[0m invalid syntax\n"
     ]
    }
   ],
   "source": [
    "## Answer to the above code. Is it possble to access the width and height directly?\n",
    "\n",
    "# -With the above code, since width and height are not declared as private therefor they are accessible directly from outside the class.\n",
    "\n",
    "## In Python, we can use the __ prefix to make attributes private.\n",
    "## Private attributes cannot be accessed directly from outside the class.\n",
    "## We need to use the getter and setter methods to access and modify private attributes.\n"
   ]
  },
  {
   "cell_type": "markdown",
   "metadata": {},
   "source": [
    "#### Save your work with commit before proceeding to the next section.\n"
   ]
  },
  {
   "cell_type": "markdown",
   "metadata": {},
   "source": [
    "--- "
   ]
  },
  {
   "cell_type": "markdown",
   "metadata": {},
   "source": [
    "## 2. Understanding the _ prefix\n",
    "\n",
    "- _width is a non-public attribute.\n",
    "- _width is accessible directly from outside the class even though it is a non-public attribute. Because it is just a convention.\n",
    "- We can use the getter and setter methods to access and modify _width.\n"
   ]
  },
  {
   "cell_type": "markdown",
   "metadata": {},
   "source": [
    "### make the following code and figure out the difference between the code with _ prefix and the code without _ prefix.\n"
   ]
  },
  {
   "cell_type": "code",
   "execution_count": 16,
   "metadata": {},
   "outputs": [
    {
     "name": "stdout",
     "output_type": "stream",
     "text": [
      "through get_x()\n",
      "10\n",
      "through get_y()\n",
      "20\n",
      "10\n",
      "20\n"
     ]
    }
   ],
   "source": [
    "class Point:\n",
    "       def __init__(self,x,y):\n",
    "               self._x = x\n",
    "               self._y = y\n",
    "\n",
    "       def get_x(self):       \n",
    "               print('through get_x()')\n",
    "               return self._x\n",
    "       def set_x(self, x):\n",
    "               print('through set_x()')\n",
    "               self._x = x    \n",
    "       def get_y(self):       \n",
    "               print('through get_y()')\n",
    "               return self._y\n",
    "       def set_y(self, y):    \n",
    "               print('through set_x()')\n",
    "               self._y = y    \n",
    "\n",
    "p1 = Point(10, 20)\n",
    "print(p1.get_x())\n",
    "print(p1.get_y())\n",
    "print (p1._x)\n",
    "print (p1._y)\n"
   ]
  },
  {
   "cell_type": "markdown",
   "metadata": {},
   "source": [
    "<code style=\"background-color: yellow; color: black\">\n",
    "But, even though _x and _y are non-public attributes, we can access them directly from outside the class.\n",
    "<br> Check the following code."
   ]
  },
  {
   "cell_type": "code",
   "execution_count": 14,
   "metadata": {},
   "outputs": [
    {
     "name": "stdout",
     "output_type": "stream",
     "text": [
      "10\n",
      "20\n"
     ]
    },
    {
     "ename": "AttributeError",
     "evalue": "'Point' object has no attribute 'x'",
     "output_type": "error",
     "traceback": [
      "\u001b[1;31m---------------------------------------------------------------------------\u001b[0m",
      "\u001b[1;31mAttributeError\u001b[0m                            Traceback (most recent call last)",
      "Cell \u001b[1;32mIn[14], line 3\u001b[0m\n\u001b[0;32m      1\u001b[0m \u001b[38;5;28mprint\u001b[39m (p1\u001b[38;5;241m.\u001b[39m_x)\n\u001b[0;32m      2\u001b[0m \u001b[38;5;28mprint\u001b[39m (p1\u001b[38;5;241m.\u001b[39m_y)\n\u001b[1;32m----> 3\u001b[0m \u001b[38;5;28mprint\u001b[39m (p1\u001b[38;5;241m.\u001b[39mx)\n",
      "\u001b[1;31mAttributeError\u001b[0m: 'Point' object has no attribute 'x'"
     ]
    }
   ],
   "source": [
    "print (p1._x)\n",
    "print (p1._y)\n",
    "print (p1.x)    # this will cause an error, because there is no property class for x."
   ]
  },
  {
   "cell_type": "markdown",
   "metadata": {},
   "source": [
    "<section style=\"background-color: gainsboro; color: black\">\n",
    "<h4> Questions </h4>\n",
    "<font size=\"5\">\n",
    "1. Question 1: Is it possble to access the _x and y directly without using the getter and setter methods? <br>\n",
    "\n",
    "<section style=\"background-color: yellow; color: black\">\n",
    "- Yes, it is possible to access _x and _y directly without using the getter and setter methods. In Python, the single underscore _ in the attribute name (e.g., _x) is a convention to indicate that the attribute is intended for internal use only, but it does not enforce this restriction.\n",
    "\n",
    "<section style=\"background-color: gainsboro; color: black\">\n",
    "2. Question 2: What is the difference between the code with _ prefix and the code without _ prefix? <br>\n",
    "<section style=\"background-color: yellow; color: black\">\n",
    "- The underscore prefix in Python is a naming convention that indicates to other developers that these attributes are intended to be private or non-public. However, this is only a convention and does not restrict access. It’s used as a reminder to programmers not to access or modify these attributes directly from outside the class.\n",
    "\n",
    "<section style=\"background-color: gainsboro; color: black\">\n",
    "3. Question 3: Why can we access the _x and _y directly without the getter and setter methods even though they are non-public attributes? <br>\n",
    "    answer: Because it is just a convention.\n",
    "<section style=\"background-color: yellow; color: black\">\n",
    "    - Since Python does not have strict access modifiers like private or protected in languages like Java or C++, it relies on conventions. Attributes with a single underscore (e.g., _x and _y) are accessible directly from outside the class because Python treats them like any other attribute\n",
    "</section>\n",
    "___"
   ]
  },
  {
   "cell_type": "markdown",
   "metadata": {},
   "source": [
    "___"
   ]
  },
  {
   "cell_type": "markdown",
   "metadata": {},
   "source": [
    "## 3. Understanding the __ prefix\n",
    "\n",
    "- __width is a private attribute.\n",
    "- __width is not accessible directly from outside the class.\n",
    "- We need to use the getter and setter methods to access and modify __width.\n"
   ]
  },
  {
   "cell_type": "markdown",
   "metadata": {},
   "source": [
    "#### <p style=\"font-family: Arial; font-size:1.4em; background-color: yellow; color:black;\"> Problem #1.3 </p>\n",
    "\n",
    "#### Make a class Rectangle with the following attributes and constructor\n",
    "```\n",
    "class Rectangle:\n",
    "       def __init__(self, width, height):\n",
    "               self.__width = width\n",
    "               self.__height = height\n",
    "r1 = Rectangle(10, 20)\n",
    "print(r1.__width)\n",
    "print(r1.__height)\n",
    "```\n",
    "\n",
    "- Try to access the width and height directly \n",
    "- Answer to the above code. Is it possble to access the width and height directly? "
   ]
  },
  {
   "cell_type": "markdown",
   "metadata": {},
   "source": [
    "<section style=\"background-color: gainsboro; color: black\">\n",
    "<h4> Questions </h4>\n",
    "<font size=\"5\">\n",
    "1. Question 1: Is it possble to access the __width and __height directly? <br><br>\n",
    "<section style=\"background-color: yellow; color: black\">\n",
    "- No, it's not possible to access the __width and __height attributes directly from outside the class. The double underscore prefix (__) before the attribute name indicates that it's a private attribute, meaning it's intended to be used only within the class itself. This is a common convention in Python to enforce encapsulation and protect the internal state of an object. <br><br>\n",
    "<section style=\"background-color: gainsboro; color: black\">\n",
    "2. Question 2: Suggest a way to access the __width and __height directly. Answer: get_width() and get_height(). Show the code<br><br>\n",
    "<section style=\"background-color: yellow; color: black\">\n",
    " - See get_width() and get_height() in the code below\n",
    "<br><br>\n",
    "<section style=\"background-color: gainsboro; color: black\">\n",
    "3. Question 3: What is the difference between the code with __ prefix and the code without __ prefix? <br><br>\n",
    "\n",
    "<section style=\"background-color: yellow; color: black\">\n",
    " - Without __: Attributes without the double underscore prefix are public, meaning they can be accessed and modified directly from outside the class. This can lead to unintended side effects and make the class less encapsulated.\n",
    "    With __: Attributes with the double underscore prefix are private, meaning they are only accessible within the class itself. This promotes encapsulation, making the class more robust and less prone to errors. <br><br>\n",
    "<section style=\"background-color: gainsboro; color: black\">\n",
    "4. Question 4: is there a way to access the __width and __height directly without using the getter and setter methods? <br><br>\n",
    "<section style=\"background-color: yellow; color: black\">\n",
    "\n",
    "- No,It's better to rely on the provided getter and setter methods to interact with the object's state.. By following this convention, you can ensure the integrity of the object and avoid potential issues.\n",
    "\n",
    " </section><br>"
   ]
  },
  {
   "cell_type": "code",
   "execution_count": 23,
   "metadata": {},
   "outputs": [
    {
     "name": "stdout",
     "output_type": "stream",
     "text": [
      "10\n",
      "20\n"
     ]
    }
   ],
   "source": [
    "# Make the same code as above using the constructor\n",
    "# Answer to the above code. Is it possble to access the width and height directly? Like r1.__width?\n",
    "  \n",
    "class Rectangle:\n",
    "        def __init__(self, width, height):\n",
    "               self.__width = width\n",
    "               self.__height = height\n",
    "               \n",
    "        def get__width(self):\n",
    "                return self.__width\n",
    "\n",
    "        def get__height(self):\n",
    "                return self.__height\n",
    "        \n",
    "r1 = Rectangle(10, 20)\n",
    "print (r1.get__width())\n",
    "print (r1.get__height())\n",
    "#print(r1.__width)\n",
    "#print(r1.__height)"
   ]
  },
  {
   "cell_type": "markdown",
   "metadata": {},
   "source": [
    "---"
   ]
  },
  {
   "cell_type": "markdown",
   "metadata": {},
   "source": [
    "## 4. Understanding the property Class\n",
    "\n",
    "- The property class is a built-in class in Python that allows us to define properties for an object.\n",
    "- We can use the property class to create getter and setter methods for private attributes.\n",
    "- We can use the property class to create a read-only property for an object.\n"
   ]
  },
  {
   "cell_type": "markdown",
   "metadata": {},
   "source": [
    "### 4.1 See the following code without property class"
   ]
  },
  {
   "cell_type": "code",
   "execution_count": 26,
   "metadata": {},
   "outputs": [
    {
     "name": "stdout",
     "output_type": "stream",
     "text": [
      "10\n",
      "20\n"
     ]
    }
   ],
   "source": [
    "class Rectangle:\n",
    "    def __init__(self, width, height):\n",
    "        self.width = width\n",
    "        self.height = height\n",
    "    \n",
    "    def getwidth(self):\n",
    "        return self.width\n",
    "    \n",
    "    def setwidth(self, width):\n",
    "        self.width = width\n",
    "\n",
    "    def getheight(self):\n",
    "        return self.height\n",
    "    \n",
    "    def setheight(self, height):\n",
    "        self.height = height\n",
    "\n",
    "r1 = Rectangle(10, 20)\n",
    "print(r1.width)\n",
    "print(r1.height)\n",
    "\n"
   ]
  },
  {
   "cell_type": "markdown",
   "metadata": {},
   "source": [
    "#### <p style=\"font-family: Arial; font-size:1.4em; background-color: yellow; color:black;\"> Problem #1.4 </p>\n",
    "\n",
    "#### Access the width and height directly without using the getter and setter methods\n",
    "\n",
    "- Is it possble to access the width and height directly without using the getter and setter methods? Why?\n",
    "<p style=\"font-family: Arial; font-size:1.4em; background-color: yellow; color:black;\">\n",
    "Yes, it is possible to access the width and height attributes directly without using the getter and setter methods.  Rhe attributes width and height are declared directly as self.width and self.height, without any underscore (_) prefix. In Python, attributes without an underscore are considered public by convention. This means they are freely accessible and modifiable from outside the class."
   ]
  },
  {
   "cell_type": "markdown",
   "metadata": {},
   "source": [
    "---\n",
    "### 4.2 See the following code with property class\n",
    "\n",
    "<code style=\"background-color: yellow; color: black\">\n",
    "height = property(getheight, setheight) <br>\n",
    "width = property(getwidth, setwidth)\n",
    "</code>"
   ]
  },
  {
   "cell_type": "markdown",
   "metadata": {},
   "source": [
    "```\n",
    "class Rectangle:\n",
    "    def __init__(self, width, height):\n",
    "        self._width = width\n",
    "        self._height = height\n",
    "    \n",
    "    def getwidth(self):\n",
    "        print (\"called getwidth\")\n",
    "        return self._width\n",
    "    \n",
    "    def setwidth(self, width):\n",
    "        print (\"called setwidth\")\n",
    "        self._width = width\n",
    "\n",
    "    def getheight(self):\n",
    "        print (\"called getheight\")\n",
    "        return self._height\n",
    "    \n",
    "    def setheight(self, height):\n",
    "        print (\"called setheight\")\n",
    "        self._height = height\n",
    "\n",
    "    height = property(getheight, setheight)\n",
    "    width = property(getwidth, setwidth)\n",
    "\n",
    "r1 = Rectangle(10, 20)\n",
    "print(r1.width)\n",
    "print(r1.height)\n",
    "```\n",
    "\n"
   ]
  },
  {
   "cell_type": "code",
   "execution_count": 35,
   "metadata": {},
   "outputs": [
    {
     "name": "stdout",
     "output_type": "stream",
     "text": [
      "called getwidth\n",
      "10\n",
      "called getheight\n",
      "20\n"
     ]
    }
   ],
   "source": [
    "## Code the same code as above with property class\n",
    "class Rectangle:\n",
    "    def __init__(self, width, height):\n",
    "        self._width = width\n",
    "        self._height = height\n",
    "    \n",
    "    def getwidth(self):\n",
    "        print (\"called getwidth\")\n",
    "        return self._width\n",
    "    \n",
    "    def setwidth(self, width):\n",
    "        print (\"called setwidth\")\n",
    "        self ._width = width\n",
    "    \n",
    "    def getheight(self):\n",
    "        print (\"called getheight\")\n",
    "        return self._height\n",
    "    \n",
    "    def setheight(self,height):\n",
    "        print (\"called setheight\")\n",
    "        self._height = height\n",
    "        \n",
    "    height = property(getheight,setheight)\n",
    "    width = property(getwidth,setwidth)\n",
    "        \n",
    "r1 = Rectangle(10, 20)\n",
    "print(r1.width)\n",
    "print(r1.height) "
   ]
  },
  {
   "cell_type": "code",
   "execution_count": 36,
   "metadata": {},
   "outputs": [
    {
     "name": "stdout",
     "output_type": "stream",
     "text": [
      "called getheight\n",
      "20\n",
      "called getwidth\n",
      "10\n",
      "10\n"
     ]
    }
   ],
   "source": [
    "## Is it possble to access the width and height directly? Why?\n",
    "print (r1.height)\n",
    "print (r1.width)\n",
    "print (r1._width)"
   ]
  },
  {
   "cell_type": "markdown",
   "metadata": {},
   "source": [
    "#### <p style=\"font-family: Arial; font-size:1.4em; background-color: yellow; color:black;\"> Problem #1.5 </p>\n",
    "\n",
    "<section style=\"background-color: gainsboro; color: black\">\n",
    "<h4> Questions </h4>\n",
    "<font size=\"5\">\n",
    "1. Question 1. Can we access the width and height directly without using the getter and setter methods in the above code? <br><br>\n",
    "<section style=\"background-color: yellow; color: black\">\n",
    "- No, you cannot directly access the private attributes _width and _height without triggering the getter and setter methods. When you use r1.width or r1.height in the provided code, Python invokes the getwidth() and getheight() methods because the property class links these methods to the width and height attributes\n",
    "<br><br>\n",
    "<section style=\"background-color: gainsboro; color: black\">\n",
    "2. Question 2. What is the difference between the above code and the code without property class? <br><br>\n",
    "<section style=\"background-color: yellow; color: black\">\n",
    "- In the original code (without property), width and height are public attributes that can be accessed or modified directly (r1.width, r1.height)<br>\n",
    "- In the property version, width and height are managed attributes, and access/modification is routed through the getter and setter methods (getwidth, setwidth, getheight, setheight)\n",
    "<br><br>\n",
    "<section style=\"background-color: gainsboro; color: black\">\n",
    "3. Even though you can access the width and height directly, the \"called getwidth\" and \"called setwidth\" are printed. Why? Explain the reason.<br><br>\n",
    "<section style=\"background-color: yellow; color: black\">\n",
    "\n",
    "-The property class dynamically intercepts access to the width and height attributes and reroutes them to the linked getter and setter methods. <br>\n",
    "-Getter Triggered: When you access r1.width, Python notices that width is a property object and calls the method linked to the getter (getwidth)<br>\n",
    "-Setter Triggered: When you assign a value to r1.width, Python notices that width is a property object and calls the method linked to the setter (setwidth). <br>\n",
    "\n",
    "</section>\n"
   ]
  },
  {
   "cell_type": "markdown",
   "metadata": {},
   "source": [
    "***\n",
    "\n",
    "## <p style=\"background-color: grey; color: white \"> ◼️  Classes and Object-Oriented Programming </p>\n",
    "# <p style=\"font-family: Arial; font-size:1.4em;color:red;\"> 2. \"\\_\\_property\\_\\_\" Double Leading Underscore </p>\n"
   ]
  },
  {
   "cell_type": "markdown",
   "metadata": {},
   "source": [
    "# 1. __property__ Double Leading Underscore and Property Class\n",
    "\n",
    "### Make the following code and figure out the difference between the code with __property__ and the code without __property__."
   ]
  },
  {
   "cell_type": "code",
   "execution_count": 37,
   "metadata": {},
   "outputs": [],
   "source": [
    "class Point:\n",
    "       def __init__(self,x,y):\n",
    "               self.__x = x\n",
    "               self.__y = y\n",
    "\n",
    "       def get_x(self):       \n",
    "               print('through get_x()')\n",
    "               return self.__x\n",
    "       def set_x(self, x):\n",
    "               print('through set_x()')\n",
    "               self.__x = x      \n",
    "       def get_y(self):       \n",
    "               print('through get_y()')\n",
    "               return self.__y\n",
    "       def set_y(self, y):    \n",
    "               print('through set_y()')\n",
    "               self.__y = y    \n",
    "\n",
    "       x = property(get_x, set_x)\n",
    "       y = property(get_y, set_y)"
   ]
  },
  {
   "cell_type": "code",
   "execution_count": 38,
   "metadata": {},
   "outputs": [
    {
     "name": "stdout",
     "output_type": "stream",
     "text": [
      "through get_x()\n",
      "10\n",
      "through get_y()\n",
      "20\n"
     ]
    },
    {
     "ename": "AttributeError",
     "evalue": "'Point' object has no attribute '__x'",
     "output_type": "error",
     "traceback": [
      "\u001b[1;31m---------------------------------------------------------------------------\u001b[0m",
      "\u001b[1;31mAttributeError\u001b[0m                            Traceback (most recent call last)",
      "Cell \u001b[1;32mIn[38], line 4\u001b[0m\n\u001b[0;32m      2\u001b[0m \u001b[38;5;28mprint\u001b[39m(p1\u001b[38;5;241m.\u001b[39mx)     \u001b[38;5;66;03m# Even though x is a private attribute, we can access it through the getter method. Thus the \"through get_x()\" is printed.\u001b[39;00m\n\u001b[0;32m      3\u001b[0m \u001b[38;5;28mprint\u001b[39m(p1\u001b[38;5;241m.\u001b[39my)     \u001b[38;5;66;03m# Even though y is a private attribute, we can access it through the getter method. Thus the \"through get_y()\" is printed.\u001b[39;00m\n\u001b[1;32m----> 4\u001b[0m \u001b[38;5;28mprint\u001b[39m(p1\u001b[38;5;241m.\u001b[39m__x)\n",
      "\u001b[1;31mAttributeError\u001b[0m: 'Point' object has no attribute '__x'"
     ]
    }
   ],
   "source": [
    "\n",
    "p1 = Point(10, 20)\n",
    "print(p1.x)     # Even though x is a private attribute, we can access it through the getter method. Thus the \"through get_x()\" is printed.\n",
    "print(p1.y)     # Even though y is a private attribute, we can access it through the getter method. Thus the \"through get_y()\" is printed.\n",
    "print(p1.__x)   # This will cause an error because __x is a private attribute."
   ]
  },
  {
   "cell_type": "markdown",
   "metadata": {},
   "source": [
    "#### <p style=\"font-family: Arial; font-size:1.4em; background-color: yellow; color:black;\"> Problem #2.0 </p>"
   ]
  },
  {
   "cell_type": "markdown",
   "metadata": {},
   "source": [
    "<section style=\"background-color: gainsboro; color: black\">\n",
    "<h4> Questions </h4>\n",
    "<font size=\"5\">\n",
    "1. Question 1: Is it possble to access the x and y directly? <br><br>\n",
    "\n",
    "<section style=\"background-color: yellow; color: black\">\n",
    "- No, it is not possible to access x and y directly because they are managed properties, not simple attributes. When you attempt to access p1.x or p1.y, the property object intercepts these calls and invokes the getter methods (get_x() and get_y()), which control how the private attributes __x and __y are accessed. <br><br>\n",
    "\n",
    "<section style=\"background-color: gainsboro; color: black\">\n",
    "2. Question 2: When we print p1.x, the \"through get_x()\" is printed. Why? <br><br>\n",
    "<section style=\"background-color: yellow; color: black\">\n",
    "When you access p1.x, Python invokes the getter method get_x() because x is a property object linked to get_x() and set_x(). The statement print('through get_x()') inside the get_x() method executes, and therefore \"through get_x()\" is printed. <br><br>\n",
    "\n",
    "<section style=\"background-color: gainsboro; color: black\">\n",
    "3. Question 3: Is there a way to access the x and y directly? without printing the \"through get_x()\" and \"through get_y()\"? <br><br>\n",
    "<section style=\"background-color: yellow; color: black\">\n",
    "No, in this example code, you cannot directly access the private attributes __x and __y <br><br>\n",
    "\n",
    "<section style=\"background-color: gainsboro; color: black\">\n",
    "4. Question 4: Accessing p1.__x will cause an error. Why? <br><br>\n",
    "<section style=\"background-color: yellow; color: black\">\n",
    "Accessing p1.__x causes an AttributeError because Python internally renames those attributes with double underscores (__) by including their class names. This means that the attribute __x is internally renamed to _Point__x to make it harder to accidentally access or override private attributes from outside the class. When you try to access p1.__x, Python cannot find an attribute with that name because it has been renamed internally. <br><br>\n",
    "</section>\n"
   ]
  },
  {
   "cell_type": "markdown",
   "metadata": {},
   "source": [
    "#### Save your work with commit before proceeding to the next section.\n"
   ]
  },
  {
   "cell_type": "markdown",
   "metadata": {},
   "source": [
    "---\n",
    "# 2 Double Leading Underscore and without Property Class\n",
    "\n",
    "### Code <font color=\"red\">without __property__.</font>"
   ]
  },
  {
   "cell_type": "code",
   "execution_count": 6,
   "metadata": {},
   "outputs": [],
   "source": [
    "class Point:\n",
    "       def __init__(self,x,y):\n",
    "               self.__x = x\n",
    "               self.__y = y\n",
    "\n",
    "       def get_x(self):       \n",
    "               print('through get_x()')\n",
    "               return self.__x\n",
    "       def set_x(self, x):\n",
    "               print('through set_x()')\n",
    "               self.__x = x      \n",
    "       def get_y(self):       \n",
    "               print('through get_y()')\n",
    "               return self.__y\n",
    "       def set_y(self, y):    \n",
    "               print('through set_y()')\n",
    "               self.__y = y    \n"
   ]
  },
  {
   "cell_type": "code",
   "execution_count": null,
   "metadata": {},
   "outputs": [],
   "source": [
    "\n",
    "p1 = Point(10, 20)\n",
    "print(p1.get_x())   # x is a private attribute, we can access it through the getter method. Thus the \"through get_x()\" is printed.\n",
    "print(p1.get_y())     # y is a private attribute, we can access it through the getter method. Thus the \"through get_y()\" is printed.\n",
    "print(p1.__x)          # This will cause an error because __x is a private attribute.\n",
    "print (p1.x)           # This will cause an error because there is no property class for x. "
   ]
  },
  {
   "cell_type": "markdown",
   "metadata": {},
   "source": [
    "#### <p style=\"font-family: Arial; font-size:1.4em; background-color: yellow; color:black;\"> Problem #2.1 </p>"
   ]
  },
  {
   "cell_type": "markdown",
   "metadata": {},
   "source": [
    "<section style=\"background-color: gainsboro; color: black\">\n",
    "<h4> Questions </h4>\n",
    "<font size=\"5\">\n",
    "1. Question 1: Is it possble to access the x and y directly without using the getter method in the above code? <br>\n",
    "2. Question 2: When we print p1.x and p1.__x, it causes an error. Why? How can we access it? <br>\n",
    "3. Question 3: What is the difference between the code with __property__ and the code without __property__? <br>\n",
    "</section>\n"
   ]
  },
  {
   "cell_type": "markdown",
   "metadata": {},
   "source": [
    "#### Save your work with commit before proceeding to the next section.\n"
   ]
  },
  {
   "cell_type": "markdown",
   "metadata": {},
   "source": [
    "***\n",
    "\n",
    "## <p style=\"background-color: grey; color: white \"> ◼️  Classes and Object-Oriented Programming </p>\n",
    "# <p style=\"font-family: Arial; font-size:1.4em;color:red;\"> 3. Understanding the Wrapper Function </p>\n",
    "\n"
   ]
  },
  {
   "cell_type": "markdown",
   "metadata": {},
   "source": [
    "#### Wrapper function is a function that takes another function as an argument and returns a new function.\n",
    "\n",
    "#### Wrapper function example \n",
    "```\n",
    "def wrapper(func):\n",
    "    def inner_function(*args, **kwargs):\n",
    "        print('before function call')\n",
    "        result = func(*args, **kwargs)\n",
    "        print('after function call')\n",
    "        return result\n",
    "    return inner_function\n",
    "```"
   ]
  },
  {
   "cell_type": "markdown",
   "metadata": {},
   "source": [
    "![wrapper function](Images/wrapperfn.png)"
   ]
  },
  {
   "cell_type": "markdown",
   "metadata": {},
   "source": [
    "## 3.1 Understanding the retrurning the function"
   ]
  },
  {
   "cell_type": "code",
   "execution_count": 38,
   "metadata": {},
   "outputs": [],
   "source": [
    "def returning_function(param):\n",
    "    def inner_function(*args, **kwargs):\n",
    "        print(f'Message (fixed) \"{param}\" :')\n",
    "        print(f'- args: {args}')\n",
    "        print(f'- kwargs: {kwargs}')\n",
    "        print(f'{param} {args[0]}, {kwargs[\"key1\"]}, {kwargs[\"key2\"]}')\n",
    "    return inner_function\n"
   ]
  },
  {
   "cell_type": "code",
   "execution_count": null,
   "metadata": {},
   "outputs": [],
   "source": [
    "greet_function = returning_function('Hello')\n",
    "\n",
    "greet_function('World', key1='Awesome', key2='Cool')\n",
    "greet_function('David', key1='Genius', key2='Cool')"
   ]
  },
  {
   "cell_type": "code",
   "execution_count": null,
   "metadata": {},
   "outputs": [],
   "source": [
    "bye_function = returning_function('Bye')\n",
    "\n",
    "bye_function('World', key1='Great', key2='to see you')\n",
    "bye_function('Everyone', key1='See you', key2='again')\n",
    "\n",
    "print (returning_function('Hello'))"
   ]
  },
  {
   "cell_type": "code",
   "execution_count": null,
   "metadata": {},
   "outputs": [],
   "source": [
    "print (returning_function('Hello'))"
   ]
  },
  {
   "cell_type": "markdown",
   "metadata": {},
   "source": [
    "#### <p style=\"font-family: Arial; font-size:1.4em; background-color: yellow; color:black;\"> Problem #3.1 </p>\n",
    "\n",
    "<code>\n",
    "Let's analyze the returning_function. <br>\n",
    "</code>\n"
   ]
  },
  {
   "cell_type": "markdown",
   "metadata": {},
   "source": [
    "<section style=\"background-color: gainsboro; color: black\">\n",
    "<h4> Questions </h4>\n",
    "<font size=\"5\">\n",
    "1. Question 1: What is returned value from the returning_function? Try to print the returned value. print(returning_function('Hello')) <br>\n",
    "2. Question 2: What is the difference between the \"greet_function\" and \"bye_function\"? <br>\n",
    "3. Question 3: Show the output of the following code. <br>\n",
    "<code>\n",
    "greet_function('World', key1='Awesome', key2='Cool') <br>\n",
    "greet_function('David', key1='Genius', key2='Cool') <br>\n",
    "</code>\n",
    "4. Question 4: Show the output of the following code. <br>\n",
    "<code>\n",
    "bye_function('World', key1='Great', key2='to see you') <br>\n",
    "bye_function('Everyone', key1='See you', key2='again') <br>\n",
    "</code>\n",
    "5. Question 5: Explain the output difference between the greet_function and bye_function. \n",
    "Where the \"Message (fixed) param\" come from?<br>\n",
    "\n",
    "\n"
   ]
  },
  {
   "cell_type": "markdown",
   "metadata": {},
   "source": [
    "## 3.2 Understanding the retrurning the function"
   ]
  },
  {
   "cell_type": "code",
   "execution_count": 58,
   "metadata": {},
   "outputs": [
    {
     "name": "stdout",
     "output_type": "stream",
     "text": [
      "[0, 3, 6, 9, 12]\n",
      "[0, 3, 6, 9, 12, 15, 18, 21, 24, 27]\n",
      "[0, 5, 10, 15, 20]\n",
      "[0, 5, 10, 15, 20, 25, 30, 35, 40, 45]\n"
     ]
    }
   ],
   "source": [
    "def multiple_function(param):\n",
    "    def inner_function(n):\n",
    "        return [param*i for i in range(n)]\n",
    "    return inner_function\n",
    "\n",
    "multiple_of_3 = multiple_function(3)\n",
    "print (multiple_of_3(5))\n",
    "print (multiple_of_3(10))\n",
    "\n",
    "multiple_of_5 = multiple_function(5)\n",
    "print (multiple_of_5(5))\n",
    "print (multiple_of_5(10))\n",
    "\n"
   ]
  },
  {
   "cell_type": "markdown",
   "metadata": {},
   "source": [
    "#### <p style=\"font-family: Arial; font-size:1.4em; background-color: yellow; color:black;\"> Problem #3.2 </p>\n",
    "\n",
    "### Problem: Powers Calculator Generator\n",
    "\n",
    "Create a function that generates specialized power calculators. Each calculator should compute a sequence of powers for a given base number.\n",
    "\n",
    "#### Requirements:\n",
    "1. Create a function `power_function(n)` that takes a base number `n`\n",
    "2. The function should return a new function that calculates powers of `n`\n",
    "3. The returned function should:\n",
    "   - Take a parameter `x` representing the sequence length\n",
    "   - Return a list containing powers of `n` from n⁰ up to n^(x-1)\n",
    "\n",
    "#### Example Usage:\n",
    "```python\n",
    "power_of_2 = power_function(2)\n",
    "print(power_of_2(5))   # Should output: [1, 2, 4, 8, 16]\n",
    "print(power_of_2(10))  # Should output: [1, 2, 4, 8, 16, 32, 64, 128, 256, 512]\n",
    "\n",
    "power_of_3 = power_function(3)\n",
    "print(power_of_3(5))   # Should output: [1, 3, 9, 27, 81]\n",
    "```\n",
    "\n",
    "#### Notes:\n",
    "- The first number in each sequence should always be 1 (n⁰)\n",
    "- Each subsequent number should be the previous number multiplied by n\n",
    "- The sequence length is determined by the parameter passed to the inner function"
   ]
  },
  {
   "cell_type": "code",
   "execution_count": null,
   "metadata": {},
   "outputs": [],
   "source": [
    "def power_function(n):\n",
    "    ## your code here\n",
    "\n",
    "power_of_2 = power_function(2)\n",
    "print (power_of_2(5))\n",
    "print (power_of_2(10))\n",
    "\n",
    "power_of_3 = power_function(3)\n",
    "print (power_of_3(5))   \n",
    "print (power_of_3(10))\n",
    "\n"
   ]
  },
  {
   "cell_type": "markdown",
   "metadata": {},
   "source": [
    "---\n",
    "## 3.3 Understanding the decorator and wrapper function\n",
    "\n",
    "### Decorator is a function that takes another function as an argument and returns a new function.\n",
    "### Wrapper function is a function that takes another function as an argument and returns a new function."
   ]
  },
  {
   "cell_type": "markdown",
   "metadata": {},
   "source": [
    "### Decorator example 1\n",
    "```\n",
    "def decorator(func):\n",
    "    def wrapper(*args, **kwargs):\n",
    "        print('before function call')\n",
    "        result = func(*args, **kwargs)\n",
    "        print('after function call')\n",
    "        return result\n",
    "    return wrapper\n",
    "```"
   ]
  },
  {
   "cell_type": "code",
   "execution_count": 56,
   "metadata": {},
   "outputs": [
    {
     "name": "stdout",
     "output_type": "stream",
     "text": [
      "before function call\n",
      "\t\tdecorated function\n",
      "after function call\n"
     ]
    }
   ],
   "source": [
    "def decorator(func):\n",
    "    def wrapper(*args, **kwargs):\n",
    "        print('before function call')\n",
    "        result = func(*args, **kwargs)\n",
    "        print('after function call')\n",
    "        return result\n",
    "    return wrapper\n",
    "\n",
    "def decorated_function(param):\n",
    "    for i in range(param):\n",
    "        print (end='\\t')\n",
    "    print(f'decorated function')\n",
    "\n",
    "decorated_function = decorator(decorated_function)\n",
    "decorated_function(2)\n"
   ]
  },
  {
   "cell_type": "markdown",
   "metadata": {},
   "source": [
    "### Decorator example 2\n",
    "#### Add the time measurement to the decorated_function\n"
   ]
  },
  {
   "cell_type": "code",
   "execution_count": 61,
   "metadata": {},
   "outputs": [
    {
     "name": "stdout",
     "output_type": "stream",
     "text": [
      "time_consuming_function starts: I will sleep for 2 seconds * 2 times\n",
      "Time taken: 4.010533094406128 seconds\n"
     ]
    }
   ],
   "source": [
    "import time\n",
    "def decorator_with_time(func):\n",
    "    def wrapper(*args, **kwargs):\n",
    "        start_time = time.time()\n",
    "        result = func(*args, **kwargs)\n",
    "        end_time = time.time()\n",
    "        print(f'Time taken: {end_time - start_time} seconds')\n",
    "        return result\n",
    "    return wrapper\n",
    "\n",
    "def time_consuming_function(n):\n",
    "    print(f'time_consuming_function starts: I will sleep for {n} seconds * {n} times')\n",
    "    for i in range(n):\n",
    "        time.sleep(n)\n",
    "\n",
    "time_consuming_function = decorator_with_time(time_consuming_function)\n",
    "time_consuming_function(2)"
   ]
  },
  {
   "cell_type": "markdown",
   "metadata": {},
   "source": [
    "#### <p style=\"font-family: Arial; font-size:1.4em; background-color: yellow; color:black;\"> Problem #3.3 </p>\n",
    "\n",
    "#### Decorator Practice Problem\n",
    "- Create a simple calculator function and enhance it with a decorator that logs when operations start and end.\n",
    "- Requirements:\n",
    "    - Create a regular function called calculator that:\n",
    "        - Takes three parameters: num1, num2, and operation (a string that can be 'add', 'subtract', 'multiply', or 'divide')\n",
    "        - Returns the result of the mathematical operation\n",
    "    - Create a decorator called <font color=\"red\"> operation_logger</font> that:\n",
    "        - Prints \"Starting calculation...\" before the function call\n",
    "        - Prints \"Calculation complete!\" after the function call\n",
    "        - Returns the result of the calculation\n",
    "\n",
    "#### Example code.\n",
    "```\n",
    "def calculator(num1, num2, operation):\n",
    "    if operation == 'add':\n",
    "        return num1 + num2\n",
    "    elif operation == 'subtract':\n",
    "        return num1 - num2\n",
    "    elif operation == 'multiply':\n",
    "        return num1 * num2\n",
    "    elif operation == 'divide':\n",
    "        return num1 / num2 if num2 != 0 else \"Error: Division by zero\"\n",
    "    else:\n",
    "        return \"Error: Invalid operation\"\n",
    "\n",
    "# Test cases\n",
    "calculator = operation_logger(calculator)\n",
    "print(calculator(10, 5, 'add'))      # Should show the logger messages and output 15\n",
    "print(calculator(10, 5, 'multiply')) # Should show the logger messages and output 50\n",
    "```\n",
    "#### Example outout\n",
    "```\n",
    "Starting calculation...\n",
    "Calculation complete!\n",
    "15\n",
    "Starting calculation...\n",
    "Calculation complete!\n",
    "50\n",
    "```\n"
   ]
  },
  {
   "cell_type": "code",
   "execution_count": 62,
   "metadata": {},
   "outputs": [],
   "source": [
    "### Code your solution here.\n"
   ]
  },
  {
   "cell_type": "markdown",
   "metadata": {},
   "source": [
    "#### <p style=\"font-family: Arial; font-size:1.4em; background-color: yellow; color:black;\"> Problem #3.4 </p>\n",
    "\n",
    "<h4> Questions </h4>\n",
    "1. Create a regular function called 'greet' that takes a name parameter and returns a greeting message. <br>\n",
    "2. Create a decorator called 'uppercase_decorator' that converts the output to uppercase. <br>\n",
    "- Then decorate the greet function and test it.\n",
    "\n",
    "Example code:\n",
    "```\n",
    "def greet(name):\n",
    "    return f\"Hello, {name}!\"\n",
    "\n",
    "greet = uppercase_decorator(greet)\n",
    "\n",
    "Test case\n",
    "print(greet(\"Alice\"))  # Should print: HELLO, ALICE!\n",
    " ```\n",
    "\n",
    "Example output:\n",
    " ```\n",
    " HELLO, ALICE!\n",
    " ```\n",
    " Tasks:\n",
    " 1. Create the greet() function that takes a name parameter\n",
    " 2. Create the uppercase_decorator and its wrapper function\n",
    " 3. Apply the decorator to greet() and test it\n"
   ]
  },
  {
   "cell_type": "markdown",
   "metadata": {},
   "source": [
    "#### Save your work with commit before proceeding to the next section."
   ]
  },
  {
   "cell_type": "markdown",
   "metadata": {},
   "source": [
    "***\n",
    "\n",
    "## <p style=\"background-color: grey; color: white \"> ◼️  Classes and Object-Oriented Programming </p>\n",
    "# <p style=\"font-family: Arial; font-size:1.4em;color:red;\"> 4. Decorator Operator @</p>\n",
    "\n"
   ]
  },
  {
   "cell_type": "markdown",
   "metadata": {},
   "source": [
    "```\n",
    "# @my_decorator\n",
    "# def my_function():\n",
    "#     pass\n",
    "```\n",
    "\n",
    "# <mark> @my_decorator </mark> is equivalent to <br>\n",
    "# <mark> my_function = my_decorator(my_function) </mark>\n",
    "\n"
   ]
  },
  {
   "cell_type": "code",
   "execution_count": null,
   "metadata": {},
   "outputs": [
    {
     "name": "stdout",
     "output_type": "stream",
     "text": [
      "before function call\n",
      "\t\tdecorated function\n",
      "after function call\n"
     ]
    }
   ],
   "source": [
    "def decorator(func):\n",
    "    def wrapper(*args, **kwargs):\n",
    "        print('before function call')\n",
    "        result = func(*args, **kwargs)\n",
    "        print('after function call')\n",
    "        return result\n",
    "    return wrapper\n",
    "\n",
    "def decorated_function(param):\n",
    "    for i in range(param):\n",
    "        print (end='\\t')\n",
    "    print(f'decorated function')\n",
    "\n",
    "decorated_function = decorator(decorated_function)\n",
    "decorated_function(2)\n"
   ]
  },
  {
   "cell_type": "markdown",
   "metadata": {},
   "source": [
    "## is the same as"
   ]
  },
  {
   "cell_type": "code",
   "execution_count": 63,
   "metadata": {},
   "outputs": [
    {
     "name": "stdout",
     "output_type": "stream",
     "text": [
      "before function call\n",
      "\t\tdecorated function\n",
      "after function call\n"
     ]
    }
   ],
   "source": [
    "def decorator(func):\n",
    "    def wrapper(*args, **kwargs):\n",
    "        print('before function call')\n",
    "        result = func(*args, **kwargs)\n",
    "        print('after function call')\n",
    "        return result\n",
    "    return wrapper\n",
    "\n",
    "@decorator\n",
    "def decorated_function(param):\n",
    "    for i in range(param):\n",
    "        print (end='\\t')\n",
    "    print(f'decorated function')\n",
    "\n",
    "decorated_function(2)"
   ]
  },
  {
   "cell_type": "markdown",
   "metadata": {},
   "source": [
    "#### <p style=\"font-family: Arial; font-size:1.4em; background-color: yellow; color:black;\"> Problem #4.1 </p>\n",
    "\n",
    "<div style=\"background-color: gainsboro; color: black\">\n",
    "<h4> Questions </h4>\n",
    "<font size=\"5\">\n",
    "- 1. Create a decorator @filter_random_numbers that filters random numbers between 50-100 from a list of random numbers between 0-100. <br>\n",
    "- 2. The decorated function should generate random numbers between 0-100, and the decorator should filter out numbers between 50-100. <br>\n",
    "</font>\n",
    "</div>\n",
    "\n",
    "```\n",
    "Example:\n",
    "@filter_random_numbers\n",
    "def generate_random_numbers():\n",
    "    # generates random numbers 0-100\n",
    "    return # radom numbers between 0 and 100 such as [23, 67, 12, 89, 45, 91, 33]\n",
    "\n",
    "result = generate_random_numbers()\n",
    "print(result)  # Your decorated function will return numbers < 50: [23, 12, 45, 33]\n",
    "```"
   ]
  },
  {
   "cell_type": "code",
   "execution_count": 64,
   "metadata": {},
   "outputs": [],
   "source": [
    "### Code your solution here.\n"
   ]
  },
  {
   "cell_type": "markdown",
   "metadata": {},
   "source": [
    "#### <p style=\"font-family: Arial; font-size:1.4em; background-color: yellow; color:black;\"> Problem #4.2 </p>\n",
    "# \n",
    "<div style=\"background-color: gainsboro; color: black\">\n",
    "<h4> Questions </h4>\n",
    "<font size=\"5\">\n",
    "- 1. Create a decorator @validate_input that checks if all arguments passed to a function are positive numbers. <br>\n",
    "- 2. If any argument is negative, the decorator should print an error message and return None. Otherwise, it should execute the function normally. <br>\n",
    "</font>\n",
    "\n",
    "</div>\n",
    "\n",
    "```\n",
    "Example:\n",
    "@validate_input\n",
    "def multiply_numbers(*args):\n",
    "    # multiplies all input numbers together\n",
    "    result = 1\n",
    "    for num in args:\n",
    "        result *= num\n",
    "    return result\n",
    "\n",
    "print(multiply_numbers(2, 3, 4))     # Output: 24\n",
    "print(multiply_numbers(2, -3, 4))    # Output: Error: All arguments must be positive\n",
    "                                     #         None\n",
    "```"
   ]
  },
  {
   "cell_type": "code",
   "execution_count": 66,
   "metadata": {},
   "outputs": [],
   "source": [
    "### Code your solution here.\n"
   ]
  },
  {
   "cell_type": "markdown",
   "metadata": {},
   "source": [
    "#### Save your work with commit before proceeding to the next section."
   ]
  },
  {
   "cell_type": "markdown",
   "metadata": {},
   "source": [
    "***\n",
    "\n",
    "## <p style=\"background-color: grey; color: white \"> ◼️  Classes and Object-Oriented Programming </p>\n",
    "# <p style=\"font-family: Arial; font-size:1.4em;color:red;\"> 5. @property Decorator </p>\n",
    "\n",
    "\n",
    "### 5.1 Understanding the @property decorator\n",
    "\n",
    "##### @property decorator example\n",
    "```\n",
    "@property\n",
    "def x(self):\n",
    "    return self._x\n",
    "\n",
    "@x.setter\n",
    "def x(self, x):\n",
    "    self._x = x\n",
    "```\n",
    "\n",
    "\n",
    "#### @property is the same as\n",
    "#### x = property(get_x, set_x)\n",
    "\n"
   ]
  },
  {
   "cell_type": "markdown",
   "metadata": {},
   "source": [
    "### Same Code as previous example, but using @property decorator\n"
   ]
  },
  {
   "cell_type": "code",
   "execution_count": 67,
   "metadata": {},
   "outputs": [],
   "source": [
    "class Point:\n",
    "       def __init__(self,x,y):\n",
    "               self._x = x\n",
    "               self._y = y\n",
    "\n",
    "       @property\n",
    "       def x(self):      \n",
    "               print('through getter')\n",
    "               return self._x\n",
    "\n",
    "       @x.setter\n",
    "       def x(self, x):\n",
    "               if x < 0:\n",
    "                       self._x = 0\n",
    "               else:\n",
    "                       self._x = x   \n",
    "       @property\n",
    "       def y(self):      \n",
    "               print('through getter')\n",
    "               return self._y\n",
    "       @y.setter\n",
    "       def y(self, y):   \n",
    "               self._y = y   \n",
    "\n",
    "       # x = property(get_x, set_x)\n",
    "       # y = property(get_y, set_y)\n"
   ]
  },
  {
   "cell_type": "code",
   "execution_count": 68,
   "metadata": {},
   "outputs": [
    {
     "name": "stdout",
     "output_type": "stream",
     "text": [
      "through getter\n",
      "10\n",
      "through getter\n",
      "0\n"
     ]
    }
   ],
   "source": [
    "### Test the above code with the following code\n",
    "p1 = Point(10, 20)\n",
    "print(p1.x)\n",
    "p1.x = -10\n",
    "print(p1.x)\n"
   ]
  },
  {
   "cell_type": "code",
   "execution_count": 72,
   "metadata": {},
   "outputs": [
    {
     "name": "stdout",
     "output_type": "stream",
     "text": [
      "through getter\n",
      "through getter\n",
      "-10 20\n"
     ]
    }
   ],
   "source": [
    "p1._x = -10 # can be accessed without setter, but it still use the setter method.\n",
    "print (p1.x, p1.y) # can be accessed directly without getter, but it still use the getter method."
   ]
  },
  {
   "cell_type": "markdown",
   "metadata": {},
   "source": [
    "#### <p style=\"font-family: Arial; font-size:1.4em; background-color: yellow; color:black;\"> Problem #5.1 </p>\n",
    "# \n",
    "<div style=\"background-color: gainsboro; color: black\">\n",
    "<h4> Questions </h4>\n",
    "<font size=\"5\">\n",
    "- 1. Create a class called Circle with a property called radius. <br>\n",
    "- 2. The radius property should have a getter and setter. <br>\n",
    "- 3. The getter should return the radius. <br>\n",
    "- 4. The setter should check if the radius is positive. If not, it should set the radius to 0. Otherwise, it should set the radius to the given value. <br>\n",
    "</font>\n",
    "\n",
    "</div>\n",
    "\n",
    "```\n",
    "Example:\n",
    "class Circle:\n",
    "    def __init__(self, radius):\n",
    "        self._radius = _radius\n",
    "\n",
    "    @property\n",
    "    def radius(self):\n",
    "        return self._radius\n",
    "    \n",
    "    @radius.setter\n",
    "    def radius(self, radius):\n",
    "        if radius < 0:\n",
    "            self._radius = 0\n",
    "        else:\n",
    "            self._radius = radius\n",
    "\n",
    "c1 = Circle(10) \n",
    "print(c1.radius)     # 10\n",
    "c1.radius = -10\n",
    "print(c1.radius)     # 0\n",
    "```"
   ]
  },
  {
   "cell_type": "code",
   "execution_count": 83,
   "metadata": {},
   "outputs": [
    {
     "name": "stdout",
     "output_type": "stream",
     "text": [
      "10\n",
      "0\n"
     ]
    }
   ],
   "source": [
    "### code your solution here\n",
    "class Circle:\n",
    "    def __init__(self, radius):\n",
    "        self._radius = radius\n",
    "\n",
    "    @property\n",
    "    def radius(self):\n",
    "        return self._radius\n",
    "    \n",
    "    @radius.setter\n",
    "    def radius(self, radius):\n",
    "        if radius < 0:\n",
    "            self._radius = 0\n",
    "        else:\n",
    "            self._radius = radius\n",
    "\n",
    "c1 = Circle(10) \n",
    "print(c1.radius)     # 10\n",
    "c1.radius = -10\n",
    "print(c1.radius)     # 0."
   ]
  },
  {
   "cell_type": "markdown",
   "metadata": {},
   "source": [
    "#### <p style=\"font-family: Arial; font-size:1.4em; background-color: yellow; color:black;\"> Problem #5.2 </p>\n",
    "# \n",
    "<div style=\"background-color: gainsboro; color: black\">\n",
    "<h4> Questions </h4>\n",
    "<font size=\"5\">\n",
    "- 1. Create a class called Rectangle with a property called width and height. <br>\n",
    "- 2. The width and height property should have a getter and setter. <br>\n",
    "- 3. The getter should return the width and height. <br>\n",
    "- 4. The setter should check if the width and height are positive. If not, it should set the width and height to 0. Otherwise, it should set the width and height to the given value. <br>\n",
    "</font>\n",
    "</div>\n",
    "\n",
    "![Rectangle](Images/P52.png)\n",
    "\n",
    "\n",
    "### Test the above code with the following code\n",
    "```\n",
    "r1 = Rectangle(10, 20) \n",
    "print(r1.width)     # 10\n",
    "r1.width = -10\n",
    "print(r1.width)     # 0\n",
    "r2 = Rectangle(100, 200)\n",
    "print (r2.width, r2.height)\n",
    "```"
   ]
  },
  {
   "cell_type": "code",
   "execution_count": 85,
   "metadata": {},
   "outputs": [],
   "source": [
    "### Code your solution here.\n",
    "\n"
   ]
  },
  {
   "cell_type": "markdown",
   "metadata": {},
   "source": [
    "#### Save your work with commit before proceeding to the next section."
   ]
  },
  {
   "cell_type": "markdown",
   "metadata": {},
   "source": [
    "***\n",
    "\n",
    "## <p style=\"background-color: grey; color: white \"> ◼️  Classes and Object-Oriented Programming </p>\n",
    "# <p style=\"font-family: Arial; font-size:1.4em;color:red;\"> 6. Class Attribute </p> \n"
   ]
  },
  {
   "cell_type": "markdown",
   "metadata": {},
   "source": [
    "### 6.1 Understanding the class attribute\n",
    "\n",
    "#### Class attribute is a variable that is shared by all instances of the class.\n",
    "#### Class attribute is defined outside of any method in the class.\n",
    "#### Class attribute can be accessed using the class name or an instance of the class.\n",
    "\n",
    "#### Example\n",
    "```\n",
    "class MyClass:\n",
    "    class_attribute = \"I am a class attribute\"\n",
    "\n",
    "print(MyClass.class_attribute)  # Output: I am a class attribute\n",
    "# or\n",
    "obj = MyClass()\n",
    "print(obj.class_attribute)  # Output: I am a class attribute\n",
    "```"
   ]
  },
  {
   "cell_type": "markdown",
   "metadata": {},
   "source": [
    "#### Save your work with commit before proceeding to the next section."
   ]
  },
  {
   "cell_type": "markdown",
   "metadata": {},
   "source": [
    "***\n",
    "\n",
    "## <p style=\"background-color: grey; color: white \"> ◼️  Classes and Object-Oriented Programming </p>\n",
    "# <p style=\"font-family: Arial; font-size:1.4em;color:red;\"> 7. Overator Overloadding </p> \n",
    "\n",
    "![Operator Overloading](Images/opoverload.png)\n"
   ]
  },
  {
   "cell_type": "markdown",
   "metadata": {},
   "source": [
    "### Understanding the operator overloading\n",
    "\n",
    "\n",
    "### Understanding the dunder methods \n",
    "Example:\n",
    "```\n",
    "__init__\n",
    "__str__\n",
    "__repr__\n",
    "__len__\n",
    "__eq__\n",
    "__getitem__\n",
    "__setitem__\n",
    "__add__\n",
    "__sub__\n",
    "__mul__\n",
    "__truediv__\n",
    "```\n"
   ]
  },
  {
   "cell_type": "markdown",
   "metadata": {},
   "source": [
    "## 1.  \\_\\_init__\n",
    "- This is a special method that is called when an object is created."
   ]
  },
  {
   "cell_type": "markdown",
   "metadata": {},
   "source": [
    "## 2. \\_\\_str__\n",
    "- This is a special method that is called when an object is converted to a string.\n",
    "## 3. \\_\\_repr__\n",
    "- This is a special method that is called when an object is converted to a string.\n"
   ]
  },
  {
   "cell_type": "code",
   "execution_count": 94,
   "metadata": {},
   "outputs": [
    {
     "name": "stdout",
     "output_type": "stream",
     "text": [
      "1, 2, 3, 4, 5\n",
      "MyClass ([1, 2, 3, 4, 5])\n"
     ]
    }
   ],
   "source": [
    "## example\n",
    "class MyClass:\n",
    "    def __init__(self, value:list ):\n",
    "        self.value = value[:]\n",
    "        \n",
    "    def __str__(self):\n",
    "        return f\"{', '.join(map(str, self.value))}\"\n",
    "\n",
    "    def __repr__(self):\n",
    "        return f\"MyClass ({self.value})\"\n",
    "\n",
    "numbers = [1, 2, 3, 4, 5]\n",
    "obj = MyClass(numbers)\n",
    "print(obj)\n",
    "print(repr(obj))"
   ]
  },
  {
   "cell_type": "code",
   "execution_count": 97,
   "metadata": {},
   "outputs": [
    {
     "data": {
      "text/plain": [
       "MyClass ([1, 2, 3, 4, 5])"
      ]
     },
     "execution_count": 97,
     "metadata": {},
     "output_type": "execute_result"
    }
   ],
   "source": [
    "obj "
   ]
  },
  {
   "cell_type": "markdown",
   "metadata": {},
   "source": [
    "## 4. \\_\\_len__\n",
    "- List, tuple, set, dictionary, string, etc. have the \\_\\_len__ method.\n",
    "- \\_\\_len__ returns the length of the object.\n"
   ]
  },
  {
   "cell_type": "code",
   "execution_count": 105,
   "metadata": {},
   "outputs": [
    {
     "name": "stdout",
     "output_type": "stream",
     "text": [
      "2, 3, 5, 7, 11, 13, 17, 19, 23, 29, 31, 37, 41, 43, 47, 53, 59, 61, 67, 71, 73, 79, 83, 89, 97\n",
      "PrimeNumbers([2, 3, 5, 7, 11, 13, 17, 19, 23, 29, 31, 37, 41, 43, 47, 53, 59, 61, 67, 71, 73, 79, 83, 89, 97])\n",
      "125\n"
     ]
    }
   ],
   "source": [
    "class PrimeNumbers:\n",
    "    def __init__(self, N:int):\n",
    "        self.Numbers = self.getPrime(N) \n",
    "    def getPrime(self, N:int):\n",
    "        return [i for i in range(2, N) if all(i % j != 0 for j in range(2, int(i**0.5) + 1))]\n",
    "    def __str__(self):\n",
    "        return f\"{', '.join(map(str, self.Numbers))}\"\n",
    "    def __repr__(self):\n",
    "        return f\"PrimeNumbers({self.Numbers})\"\n",
    "    def __len__(self):\n",
    "        MyClassLen = len(self.Numbers) + 100\n",
    "        return MyClassLen\n",
    "\n",
    "obj = PrimeNumbers(100)\n",
    "print(obj)\n",
    "print(repr(obj))\n",
    "print(len(obj)) # Now it shows 125, because it was added 100 to the length of list in your class method"
   ]
  },
  {
   "cell_type": "markdown",
   "metadata": {},
   "source": [
    "## 5. \\_\\_eq__\n",
    "- This is a special method that is called when an object is compared to another object.\n",
    "- \\_\\_eq__ returns True if the two objects are equal, False otherwise.\n"
   ]
  },
  {
   "cell_type": "markdown",
   "metadata": {},
   "source": [
    "##### In this example, we are going to make eq operator overloading to check if one object value is subset of another object value or two objects are the same.\n"
   ]
  },
  {
   "cell_type": "code",
   "execution_count": 107,
   "metadata": {},
   "outputs": [
    {
     "name": "stdout",
     "output_type": "stream",
     "text": [
      "True\n",
      "True\n"
     ]
    }
   ],
   "source": [
    "## We provide eq operator overloading to check if one object value is subset of another object value or two objects are the same.\n",
    "\n",
    "class Numbers:\n",
    "    def __init__(self, value:list):\n",
    "        self.value = value[:]\n",
    "    def __eq__(self, other):\n",
    "        if len(self.value) <= len(other.value):\n",
    "            return True if all(i in other.value for i in self.value) else False\n",
    "        else:\n",
    "            return True if all(i in self.value for i in other.value) else False\n",
    "\n",
    "obj1 = Numbers([1, 2, 3, 4, 5])\n",
    "obj2 = Numbers([1, 2, 3, 4, 5, 6, 7, 8, 9, 10])\n",
    "print(obj1 == obj2)\n",
    "\n",
    "\n",
    "obj3 = Numbers([1, 2, 3, 4, 5])\n",
    "obj4 = Numbers([1, 2, 3])\n",
    "print(obj3 == obj4)"
   ]
  },
  {
   "cell_type": "markdown",
   "metadata": {},
   "source": [
    "## 6. \\_\\_getitem__\n",
    "- This is a special method that is called when an object is indexed.\n",
    "- \\_\\_getitem__ returns the item at the given index.\n",
    "\n",
    "## 7. \\_\\_setitem__\n",
    "- This is a special method that is called when an object is indexed.\n",
    "- \\_\\_setitem__ sets the item at the given index.\n"
   ]
  },
  {
   "cell_type": "markdown",
   "metadata": {},
   "source": [
    "#### Example code\n",
    "\n",
    "```\n",
    "1. __getitem__\n",
    "    n[0] will return the value as a list\n",
    "2. __setitem__\n",
    "    Add the code Index checking.\n",
    "    Even if the index is out of range, it will not raise an error.\n",
    "    But it will print an error message.\n",
    "```\n"
   ]
  },
  {
   "cell_type": "code",
   "execution_count": 113,
   "metadata": {},
   "outputs": [
    {
     "name": "stdout",
     "output_type": "stream",
     "text": [
      "[1]\n",
      "[10]\n",
      "Index 11 is out of range\n"
     ]
    },
    {
     "data": {
      "text/plain": [
       "[[2, 3, 4]]"
      ]
     },
     "execution_count": 113,
     "metadata": {},
     "output_type": "execute_result"
    }
   ],
   "source": [
    "# Example code\n",
    "class Numbers:\n",
    "    def __init__(self, value:list):\n",
    "        self.value = value[:]\n",
    "    def __setitem__(self, index, value):\n",
    "        if index < len(self.value):\n",
    "            self.value[index] = value\n",
    "        else:\n",
    "            print(f\"Index {index} is out of range\")\n",
    "    def __getitem__(self, index):\n",
    "        return [self.value[index]]\n",
    "\n",
    "obj = Numbers([1, 2, 3, 4, 5])\n",
    "print(obj[0])\n",
    "obj[0] = 10\n",
    "print(obj[0])\n",
    "\n",
    "obj[11] = 20\n",
    "obj[1:4]"
   ]
  },
  {
   "cell_type": "markdown",
   "metadata": {},
   "source": [
    "#### <p style=\"font-family: Arial; font-size:1.4em; background-color: yellow; color:black;\"> Problem #7.1 </p>\n",
    "# \n",
    "<div style=\"background-color: gainsboro; color: black\">\n",
    "<h4> Questions </h4>\n",
    "\n",
    "1. Create a class named Numbers with the following:\n",
    "   - Attributes:\n",
    "     - ID (int)\n",
    "     - values (list of integers)\n",
    "   - Properties with getters/setters for ID and values\n",
    "   - __init__(self, ID, values)\n",
    "   - __str__ to print ID and values\n",
    "   - __gt__ compares max values, then 2nd max if tied, then 3rd and so on.\n",
    "   - __lt__ compares min values, then 2nd min if tied, then 3rd and so on.\n",
    "   - __eq__ checks if lists are same or subsets\n",
    "   - __sub__ returns difference of sums\n",
    "   - __add__ returns sum of both lists\n",
    "\n"
   ]
  },
  {
   "cell_type": "code",
   "execution_count": 116,
   "metadata": {},
   "outputs": [],
   "source": [
    "## Code your solution here.\n"
   ]
  },
  {
   "cell_type": "markdown",
   "metadata": {},
   "source": [
    "#### 1. Init Test"
   ]
  },
  {
   "cell_type": "code",
   "execution_count": 117,
   "metadata": {},
   "outputs": [
    {
     "name": "stdout",
     "output_type": "stream",
     "text": [
      "ID: 1, Values: 1, 2, 3, 4, 5\n",
      "ID: 2, Values: 1, 2, 3, 4, 5, 6, 7, 8, 9, 10\n",
      "ID: 1, Values: 1, 2, 3, 4, 5\n"
     ]
    }
   ],
   "source": [
    "## Test your code with the following code\n",
    "\n",
    "## Init Test\n",
    "values1 = [1, 2, 3, 4, 5]\n",
    "values2 = [1, 2, 3, 4, 5, 6, 7, 8, 9, 10]\n",
    "obj1 = Numbers(1, values1)\n",
    "obj2 = Numbers(2, values2)\n",
    "print(obj1)\n",
    "print(obj2)\n",
    "\n",
    "values1[0] = 100 ; values2[0] = 100 \n",
    "print(obj1) # It should print [1, 2, 3, 4, 5] \n",
    "\n",
    "\n"
   ]
  },
  {
   "cell_type": "markdown",
   "metadata": {},
   "source": [
    "#### 2. @Property Test\n",
    "#### 3. \\_\\_ repr Test"
   ]
  },
  {
   "cell_type": "code",
   "execution_count": 119,
   "metadata": {},
   "outputs": [
    {
     "name": "stdout",
     "output_type": "stream",
     "text": [
      "ID: 1, Values: 100, 200, 300, 400, 500\n"
     ]
    }
   ],
   "source": [
    "values1 = [1, 2, 3, 4, 5]\n",
    "obj1 = Numbers(1, values1)\n",
    "obj1.values = [100, 200, 300, 400, 500]\n",
    "print(obj1)"
   ]
  },
  {
   "cell_type": "markdown",
   "metadata": {},
   "source": [
    "#### 4. \\_\\_gt__ , \\_\\_lt__ Test\n",
    "#### 5. \\_\\_eq__ Test\n",
    "#### 6. \\_\\_sub__ Test\n",
    "#### 7. \\_\\_add__ Test"
   ]
  },
  {
   "cell_type": "code",
   "execution_count": 124,
   "metadata": {},
   "outputs": [
    {
     "name": "stdout",
     "output_type": "stream",
     "text": [
      "40\n",
      "70\n",
      "True\n",
      "False\n",
      "True\n"
     ]
    }
   ],
   "source": [
    "v1 = [1, 2, 3, 4, 5]\n",
    "v2 = [1, 2, 3, 4, 5, 6, 7, 8, 9, 10]\n",
    "obj1 = Numbers(1, v1)\n",
    "obj2 = Numbers(2, v2)\n",
    "print(obj2 - obj1) # 55 - 15 = 40\n",
    "print(obj1 + obj2)  # 15 + 55 = 70\n",
    "print(obj1 == obj2) # True\n",
    "print(obj1 > obj2)  # False\n",
    "print(obj1 < obj2)  # True"
   ]
  }
 ],
 "metadata": {
  "kernelspec": {
   "display_name": "base",
   "language": "python",
   "name": "python3"
  },
  "language_info": {
   "codemirror_mode": {
    "name": "ipython",
    "version": 3
   },
   "file_extension": ".py",
   "mimetype": "text/x-python",
   "name": "python",
   "nbconvert_exporter": "python",
   "pygments_lexer": "ipython3",
   "version": "3.11.9"
  },
  "orig_nbformat": 4
 },
 "nbformat": 4,
 "nbformat_minor": 2
}
